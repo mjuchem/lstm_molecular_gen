{
 "cells": [
  {
   "cell_type": "markdown",
   "metadata": {},
   "source": [
    "# Training\n",
    "\n",
    "Train a LSTM to generate molecules."
   ]
  },
  {
   "cell_type": "code",
   "execution_count": null,
   "metadata": {
    "tags": []
   },
   "outputs": [],
   "source": [
    "import numpy as np\n",
    "import pandas as pd\n",
    "import matplotlib.pyplot as plt\n",
    "\n",
    "import tensorflow as tf\n",
    "from tensorflow.keras.preprocessing.sequence import pad_sequences\n",
    "from tensorflow.keras.initializers import RandomNormal\n",
    "from tensorflow.keras.layers import Embedding, LSTM, Dense\n",
    "from tensorflow.keras.callbacks import EarlyStopping\n",
    "\n",
    "from src.features.smiles import SmilesTokenizer\n",
    "from src.models.lstm_model import build_model"
   ]
  },
  {
   "cell_type": "code",
   "execution_count": null,
   "metadata": {},
   "outputs": [],
   "source": [
    "print(\"Num GPUs Available: \", len(tf.config.list_physical_devices('GPU')))"
   ]
  },
  {
   "cell_type": "code",
   "execution_count": null,
   "metadata": {
    "tags": []
   },
   "outputs": [],
   "source": [
    "dataset = np.load('data/interim/training_dataset.npy')"
   ]
  },
  {
   "cell_type": "code",
   "execution_count": null,
   "metadata": {
    "tags": []
   },
   "outputs": [],
   "source": [
    "st = SmilesTokenizer()\n",
    "\n",
    "vocab_size = st.table_len\n",
    "\n",
    "np.random.shuffle(dataset)\n",
    "\n",
    "X = dataset[:, :-1]\n",
    "labels = dataset[:, -1:]\n",
    "\n",
    "VAL_SPLIT = .10\n",
    "\n",
    "y = tf.keras.utils.to_categorical(labels, num_classes=vocab_size)\n",
    "\n",
    "X_train, X_test = X[:int(X.shape[0] * (1 - VAL_SPLIT))], X[int(X.shape[0] * (1 - VAL_SPLIT)):]\n",
    "y_train, y_test = y[:int(y.shape[0] * (1 - VAL_SPLIT))], y[int(y.shape[0] * (1 - VAL_SPLIT)):]\n",
    "\n",
    "X_train = X_train.reshape((X_train.shape[0], X_train.shape[1]))\n",
    "X_test = X_test.reshape((X_test.shape[0], X_test.shape[1]))\n",
    "\n",
    "max_length = X_train.shape[1]\n",
    "train_size = X_train.shape[0]\n",
    "\n",
    "print('Vocabulary size: ', vocab_size)\n",
    "print('Max length: ', max_length)\n",
    "print('Train size: ', train_size)\n",
    "print(X_train.shape)\n",
    "print(X_test.shape)\n",
    "print(y_train.shape)\n",
    "print(y_test.shape)"
   ]
  },
  {
   "cell_type": "code",
   "execution_count": null,
   "metadata": {},
   "outputs": [],
   "source": [
    "(model, es) = build_model(vocab_size, 128, .1, 'nadam')\n",
    "\n",
    "print(model.summary())\n",
    "\n",
    "#model.load_weights('models/2024-05-27_12-40_model_nadam_128_100epochs_5000batch.h5')"
   ]
  },
  {
   "cell_type": "code",
   "execution_count": null,
   "metadata": {
    "tags": []
   },
   "outputs": [],
   "source": [
    "NUM_EPOCHS = 100\n",
    "\n",
    "history = model.fit(\n",
    "    X_train, y_train,\n",
    "    validation_data=(X_test, y_test),\n",
    "    shuffle=False,\n",
    "    epochs=NUM_EPOCHS,\n",
    "    batch_size=1000,\n",
    "    callbacks=[es]\n",
    "    )\n",
    "\n",
    "scores = model.evaluate(X_test, y_test)\n",
    "\n",
    "print(history)\n",
    "print(scores)\n",
    "\n",
    "plt.plot(history.history['loss'])\n",
    "plt.plot(history.history['val_loss'])\n",
    "\n",
    "model.save('model_nadam_128_100epochs_1000batch.h5')"
   ]
  }
 ],
 "metadata": {
  "kaggle": {
   "accelerator": "gpu",
   "dataSources": [
    {
     "datasetId": 559147,
     "sourceId": 1017117,
     "sourceType": "datasetVersion"
    }
   ],
   "dockerImageVersionId": 29860,
   "isGpuEnabled": true,
   "isInternetEnabled": false,
   "language": "python",
   "sourceType": "notebook"
  },
  "kernelspec": {
   "display_name": "Python 3 (ipykernel)",
   "language": "python",
   "name": "python3"
  },
  "language_info": {
   "codemirror_mode": {
    "name": "ipython",
    "version": 3
   },
   "file_extension": ".py",
   "mimetype": "text/x-python",
   "name": "python",
   "nbconvert_exporter": "python",
   "pygments_lexer": "ipython3",
   "version": "3.6.15"
  }
 },
 "nbformat": 4,
 "nbformat_minor": 4
}
