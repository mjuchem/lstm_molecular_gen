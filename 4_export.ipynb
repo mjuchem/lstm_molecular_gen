{
 "cells": [
  {
   "cell_type": "markdown",
   "metadata": {},
   "source": [
    "# Export\n",
    "\n",
    "Take SMILES sequences and generate SDF and PDBQT files, for analysis in PyRx."
   ]
  },
  {
   "cell_type": "code",
   "execution_count": null,
   "metadata": {},
   "outputs": [],
   "source": [
    "import os\n",
    "from os import listdir\n",
    "import random\n",
    "import pandas as pd\n",
    "import numpy as np\n",
    "\n",
    "from openbabel import openbabel # conda install -c conda-forge openbabel\n",
    "\n",
    "from rdkit import Chem, DataStructs\n",
    "import rdkit.Chem.PropertyMol\n",
    "from rdkit.Chem.Fingerprints import FingerprintMols\n",
    "\n",
    "from src.features.smiles import cleanup_list_smiles, validate_mols, convert_mols_to_smiles, encode_list_smiles"
   ]
  },
  {
   "cell_type": "code",
   "execution_count": null,
   "metadata": {},
   "outputs": [],
   "source": [
    "df_smiles = pd.read_csv('data/processed/generated_smiles.smi', sep=',', header=None)\n",
    "display(df_smiles)\n",
    "list_smiles = list(df_smiles[0])"
   ]
  },
  {
   "cell_type": "code",
   "execution_count": null,
   "metadata": {},
   "outputs": [],
   "source": [
    "# Intakes a list of smiles, randomly shuffles them, then adds first thirty,\n",
    "# then sets a max-similarity threshold between any new molecule and existing list\n",
    "# and iteratively increases the treshold until X components are picked to ensure diveristy\n",
    "\n",
    "def initialize_generation_from_mols(list_of_mols,desired_length):  \n",
    "    assert desired_length >30\n",
    "    random.shuffle(list_of_mols)\n",
    "    random.shuffle(list_of_mols)\n",
    "    \n",
    "    #Prepare fingerprints for similarity calcs\n",
    "    mol_fingerprints = []\n",
    "    for mol in list_of_mols:\n",
    "        mol_fingerprints.append(Chem.RDKFingerprint(mol))\n",
    "    \n",
    "    selected_mols = list_of_mols[0:30]\n",
    "    selected_fingerprints = mol_fingerprints[0:30]\n",
    "    remaining_mols = list_of_mols[30:]\n",
    "    remaining_fingerprints = mol_fingerprints[30:]\n",
    "    \n",
    "    similarity_threshold = .05   \n",
    "    while len(selected_mols) < desired_length:\n",
    "        for fingerprint, mol in zip(remaining_fingerprints, remaining_mols):\n",
    "            max_similarity = np.max(DataStructs.BulkTanimotoSimilarity(fingerprint,selected_fingerprints))\n",
    "            if (max_similarity <= similarity_threshold) and (max_similarity < 1):\n",
    "                selected_fingerprints.append(fingerprint)\n",
    "                selected_mols.append(mol)\n",
    "        #print(\"Completed loop with threshold at: \", similarity_threshold, \". Length is currently: \", len(selected_mols))\n",
    "        similarity_threshold += .05\n",
    "    return selected_mols"
   ]
  },
  {
   "cell_type": "code",
   "execution_count": null,
   "metadata": {},
   "outputs": [],
   "source": [
    "mols = validate_mols(list_smiles)\n",
    "mols = initialize_generation_from_mols(mols, 1000)\n",
    "print(len(mols))"
   ]
  },
  {
   "cell_type": "code",
   "execution_count": null,
   "metadata": {},
   "outputs": [],
   "source": [
    "BATCH_SIZE = 1\n",
    "N = len(df_smiles)\n",
    "OUTPUT_PATH = \"data/processed/\"\n",
    "\n",
    "for j in range(int(N / BATCH_SIZE) + 1):\n",
    "    \n",
    "    first = j * BATCH_SIZE\n",
    "    last = min(N - 1, (j + 1) * BATCH_SIZE - 1)\n",
    "    \n",
    "    print('Batch', j + 1, ' - ', first, 'to', last)\n",
    "    \n",
    "    filename = OUTPUT_PATH + \"batch\" + str(j + 1) + \".sdf\"\n",
    "    \n",
    "    f = Chem.SDWriter(filename)\n",
    "    \n",
    "    for i in range(first, last + 1):\n",
    "        smiles = df_smiles[0][i]\n",
    "        \n",
    "        mol = Chem.MolFromSmiles(smiles)\n",
    "\n",
    "        print(FingerprintMols.FingerprintMol(mol))\n",
    "\n",
    "        f.write(mol)\n",
    "        \n",
    "    f.close()"
   ]
  },
  {
   "cell_type": "code",
   "execution_count": null,
   "metadata": {},
   "outputs": [],
   "source": [
    "sdf_files = [f for f in os.listdir('data/processed/') if f.endswith('.sdf')]\n",
    "\n",
    "for sdf in sdf_files:\n",
    "\n",
    "    obConversion = openbabel.OBConversion()\n",
    "    obConversion.SetInAndOutFormats(\"sdf\", \"pdbqt\")\n",
    "\n",
    "    mol = openbabel.OBMol()\n",
    "    obConversion.ReadFile(mol, OUTPUT_PATH + sdf)\n",
    "    \n",
    "    mol.AddHydrogens()\n",
    "    \n",
    "    print(mol.GetFormula())\n",
    "    mol.SetTitle(mol.GetFormula())\n",
    "\n",
    "    obConversion.WriteFile(mol, OUTPUT_PATH + os.path.splitext(sdf)[0] + '.pdbqt')\n",
    "    \n",
    "    obConversion.CloseOutFile()"
   ]
  }
 ],
 "metadata": {
  "kernelspec": {
   "display_name": "Python 3",
   "language": "python",
   "name": "python3"
  },
  "language_info": {
   "codemirror_mode": {
    "name": "ipython",
    "version": 3
   },
   "file_extension": ".py",
   "mimetype": "text/x-python",
   "name": "python",
   "nbconvert_exporter": "python",
   "pygments_lexer": "ipython3",
   "version": "3.7.10"
  }
 },
 "nbformat": 4,
 "nbformat_minor": 4
}
