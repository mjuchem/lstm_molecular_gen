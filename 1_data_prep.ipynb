{
 "cells": [
  {
   "cell_type": "markdown",
   "metadata": {},
   "source": [
    "# Data Prep\n",
    "\n",
    "Load molecules."
   ]
  },
  {
   "cell_type": "code",
   "execution_count": null,
   "metadata": {},
   "outputs": [],
   "source": [
    "%pip install numpy\n",
    "%pip install pandas\n",
    "%pip install tensorflow\n",
    "%pip install tensorboard\n",
    "%pip install tensorrt\n",
    "%pip install matplotlib\n",
    "%pip install rdkit\n",
    "%pip install openbabel"
   ]
  },
  {
   "cell_type": "code",
   "execution_count": null,
   "metadata": {
    "tags": []
   },
   "outputs": [],
   "source": [
    "import numpy as np\n",
    "import pandas as pd\n",
    "\n",
    "from tensorflow.keras.preprocessing.sequence import pad_sequences\n",
    "\n",
    "from src.features.smiles import SmilesTokenizer, cleanup_list_smiles, encode_list_smiles"
   ]
  },
  {
   "cell_type": "code",
   "execution_count": null,
   "metadata": {
    "tags": []
   },
   "outputs": [],
   "source": [
    "MAX_LENGTH = 200\n",
    "\n",
    "dataset = pd.read_csv(\"data/external/dataset.smi\", names=[\"smiles\"])\n",
    "hiv_inhibitors = pd.read_csv(\"data/external/hiv_inhibitors.smi\", names=[\"smiles\"])\n",
    "hydroxychloroquine = pd.read_csv(\"data/external/hydroxychloroquine.smi\", names=[\"smiles\"])\n",
    "known_TRPM8_inhibitors = pd.read_csv(\"data/external/known_TRPM8-inhibitors.smi\", names=[\"smiles\"])\n",
    "manual_testing = pd.read_csv(\"data/external/manual_testing.smi\", names=[\"smiles\"])\n",
    "\n",
    "df_train = pd.concat([dataset, hiv_inhibitors, known_TRPM8_inhibitors])\n",
    "\n",
    "df_train = df_train.loc[\n",
    "    (df_train['smiles'].str.len() <= MAX_LENGTH)\n",
    "]\n",
    "\n",
    "display(df_train)\n",
    "\n",
    "df_test = manual_testing\n",
    "\n",
    "df_test = df_test.loc[\n",
    "    (df_test['smiles'].str.len() <= MAX_LENGTH)\n",
    "]\n",
    "\n",
    "display(df_test)"
   ]
  },
  {
   "cell_type": "code",
   "execution_count": null,
   "metadata": {},
   "outputs": [],
   "source": [
    "# def window_data(data):\n",
    "#     X = []\n",
    "#     for t in data:\n",
    "#         #print(t)\n",
    "#         for i in range(len(t) - 1):\n",
    "#             m = t[0:i+2]\n",
    "#             #print(m)\n",
    "#             X.append(m)\n",
    "#     return X\n",
    "\n",
    "# smiles = cleanup_list_smiles(list(df_train['smiles']))\n",
    "# encoded_smiles = encode_list_smiles(smiles)\n",
    "\n",
    "# encoded_smiles = window_data(encoded_smiles)"
   ]
  },
  {
   "cell_type": "code",
   "execution_count": null,
   "metadata": {
    "tags": []
   },
   "outputs": [],
   "source": [
    "st = SmilesTokenizer()\n",
    "\n",
    "encoded_smiles = []\n",
    "\n",
    "for s in df_train['smiles']:\n",
    "    t = st.tokenize(s)\n",
    "    e = st.embeddings(t)\n",
    "    encoded_smiles.append(e)\n",
    "\n",
    "dataset = pad_sequences(encoded_smiles, maxlen=MAX_LENGTH, dtype='float32', padding='pre', value=st.zero())\n",
    "print(dataset.shape)\n",
    "\n",
    "np.save('data/interim/training_dataset.npy', dataset)\n",
    "\n",
    "encoded_smiles = []\n",
    "\n",
    "for s in df_test['smiles']:\n",
    "    t = st.tokenize(s)\n",
    "    e = st.embeddings(t)\n",
    "    encoded_smiles.append(e)\n",
    "\n",
    "dataset = pad_sequences(encoded_smiles, maxlen=MAX_LENGTH, dtype='float32', padding='pre', value=st.zero())\n",
    "print(dataset.shape)\n",
    "\n",
    "np.save('data/interim/test_dataset.npy', dataset)"
   ]
  }
 ],
 "metadata": {
  "kaggle": {
   "accelerator": "gpu",
   "dataSources": [
    {
     "datasetId": 559147,
     "sourceId": 1017117,
     "sourceType": "datasetVersion"
    }
   ],
   "dockerImageVersionId": 29860,
   "isGpuEnabled": true,
   "isInternetEnabled": false,
   "language": "python",
   "sourceType": "notebook"
  },
  "kernelspec": {
   "display_name": "Python 3 (ipykernel)",
   "language": "python",
   "name": "python3"
  },
  "language_info": {
   "codemirror_mode": {
    "name": "ipython",
    "version": 3
   },
   "file_extension": ".py",
   "mimetype": "text/x-python",
   "name": "python",
   "nbconvert_exporter": "python",
   "pygments_lexer": "ipython3",
   "version": "3.6.15"
  }
 },
 "nbformat": 4,
 "nbformat_minor": 4
}
